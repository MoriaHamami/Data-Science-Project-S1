{
 "cells": [
  {
   "cell_type": "markdown",
   "id": "4ea55f47",
   "metadata": {},
   "source": [
    "# Final Project - Part 3 Classification"
   ]
  },
  {
   "cell_type": "markdown",
   "id": "f4562f39",
   "metadata": {},
   "source": [
    "##  Project Goal:  classify text messages into either spam or ham "
   ]
  },
  {
   "cell_type": "markdown",
   "id": "badeab50",
   "metadata": {},
   "source": [
    "In this project our goal is to classify text messages into the right class, either spam or ham. \n",
    "\n",
    "We took our data from Kaggle.\n",
    "The websites' link is: https://www.kaggle.com/team-ai/spam-text-message-classification"
   ]
  },
  {
   "cell_type": "markdown",
   "id": "19c4005e",
   "metadata": {},
   "source": [
    "# Table of Contents"
   ]
  },
  {
   "cell_type": "markdown",
   "id": "c3b5c5d2",
   "metadata": {},
   "source": [
    "### 1- Checking the Data\n",
    "### 2- Visualization\n",
    "### 3- Cleaning the Data\n",
    "### 4- Splitting the Data\n",
    "### 5-  Dummy Model\n",
    "### 6- Comparing 3 Models\n",
    "### 7- Error Model\n",
    "### 8- Conclusion"
   ]
  },
  {
   "cell_type": "markdown",
   "id": "d78179ef",
   "metadata": {},
   "source": [
    "# Checking the Data"
   ]
  },
  {
   "cell_type": "markdown",
   "id": "22f85230",
   "metadata": {},
   "source": [
    "First, let's import all the libraries we need"
   ]
  },
  {
   "cell_type": "code",
   "execution_count": 41,
   "id": "655bff7d",
   "metadata": {},
   "outputs": [],
   "source": [
    "import numpy as np \n",
    "import pandas as pd\n",
    "\n",
    "import matplotlib.pyplot as plt\n",
    "import matplotlib as mp\n",
    "import seaborn as sns\n",
    "sns.set(style=\"darkgrid\")\n",
    "\n",
    "from sklearn.model_selection import train_test_split\n",
    "from sklearn.dummy import DummyClassifier\n",
    "\n",
    "from sklearn.feature_extraction.text import TfidfVectorizer\n",
    "from sklearn.pipeline import Pipeline\n",
    "from sklearn.ensemble import RandomForestClassifier\n",
    "\n",
    "\n",
    "#for logistic reggression\n",
    "from sklearn.linear_model import LogisticRegression\n",
    "from sklearn.metrics import classification_report, confusion_matrix\n",
    "\n",
    "from sklearn.metrics import roc_auc_score"
   ]
  },
  {
   "cell_type": "markdown",
   "id": "bdeca687",
   "metadata": {},
   "source": [
    "### About our Data.."
   ]
  },
  {
   "cell_type": "markdown",
   "id": "d9d8a991",
   "metadata": {},
   "source": [
    "Our data is a DataFrame that has 2 columns:\n",
    "\n",
    "- Category: has the type of the text message either spam or ham\n",
    "- Message: has the content of the text message"
   ]
  },
  {
   "cell_type": "markdown",
   "id": "74932a37",
   "metadata": {},
   "source": [
    "Now, let's import our data"
   ]
  },
  {
   "cell_type": "code",
   "execution_count": 5,
   "id": "7d7d36a0",
   "metadata": {},
   "outputs": [],
   "source": [
    "df = pd.read_csv ('SPAM text message 20170820 - Data.csv', index_col = False, low_memory=False)"
   ]
  },
  {
   "cell_type": "markdown",
   "id": "d2379459",
   "metadata": {},
   "source": [
    "A quick look at our data: "
   ]
  },
  {
   "cell_type": "code",
   "execution_count": 6,
   "id": "72e2354c",
   "metadata": {},
   "outputs": [
    {
     "data": {
      "text/html": [
       "<div>\n",
       "<style scoped>\n",
       "    .dataframe tbody tr th:only-of-type {\n",
       "        vertical-align: middle;\n",
       "    }\n",
       "\n",
       "    .dataframe tbody tr th {\n",
       "        vertical-align: top;\n",
       "    }\n",
       "\n",
       "    .dataframe thead th {\n",
       "        text-align: right;\n",
       "    }\n",
       "</style>\n",
       "<table border=\"1\" class=\"dataframe\">\n",
       "  <thead>\n",
       "    <tr style=\"text-align: right;\">\n",
       "      <th></th>\n",
       "      <th>Category</th>\n",
       "      <th>Message</th>\n",
       "    </tr>\n",
       "  </thead>\n",
       "  <tbody>\n",
       "    <tr>\n",
       "      <th>0</th>\n",
       "      <td>ham</td>\n",
       "      <td>Go until jurong point, crazy.. Available only ...</td>\n",
       "    </tr>\n",
       "    <tr>\n",
       "      <th>1</th>\n",
       "      <td>ham</td>\n",
       "      <td>Ok lar... Joking wif u oni...</td>\n",
       "    </tr>\n",
       "    <tr>\n",
       "      <th>2</th>\n",
       "      <td>spam</td>\n",
       "      <td>Free entry in 2 a wkly comp to win FA Cup fina...</td>\n",
       "    </tr>\n",
       "    <tr>\n",
       "      <th>3</th>\n",
       "      <td>ham</td>\n",
       "      <td>U dun say so early hor... U c already then say...</td>\n",
       "    </tr>\n",
       "    <tr>\n",
       "      <th>4</th>\n",
       "      <td>ham</td>\n",
       "      <td>Nah I don't think he goes to usf, he lives aro...</td>\n",
       "    </tr>\n",
       "    <tr>\n",
       "      <th>5</th>\n",
       "      <td>spam</td>\n",
       "      <td>FreeMsg Hey there darling it's been 3 week's n...</td>\n",
       "    </tr>\n",
       "    <tr>\n",
       "      <th>6</th>\n",
       "      <td>ham</td>\n",
       "      <td>Even my brother is not like to speak with me. ...</td>\n",
       "    </tr>\n",
       "    <tr>\n",
       "      <th>7</th>\n",
       "      <td>ham</td>\n",
       "      <td>As per your request 'Melle Melle (Oru Minnamin...</td>\n",
       "    </tr>\n",
       "    <tr>\n",
       "      <th>8</th>\n",
       "      <td>spam</td>\n",
       "      <td>WINNER!! As a valued network customer you have...</td>\n",
       "    </tr>\n",
       "    <tr>\n",
       "      <th>9</th>\n",
       "      <td>spam</td>\n",
       "      <td>Had your mobile 11 months or more? U R entitle...</td>\n",
       "    </tr>\n",
       "  </tbody>\n",
       "</table>\n",
       "</div>"
      ],
      "text/plain": [
       "  Category                                            Message\n",
       "0      ham  Go until jurong point, crazy.. Available only ...\n",
       "1      ham                      Ok lar... Joking wif u oni...\n",
       "2     spam  Free entry in 2 a wkly comp to win FA Cup fina...\n",
       "3      ham  U dun say so early hor... U c already then say...\n",
       "4      ham  Nah I don't think he goes to usf, he lives aro...\n",
       "5     spam  FreeMsg Hey there darling it's been 3 week's n...\n",
       "6      ham  Even my brother is not like to speak with me. ...\n",
       "7      ham  As per your request 'Melle Melle (Oru Minnamin...\n",
       "8     spam  WINNER!! As a valued network customer you have...\n",
       "9     spam  Had your mobile 11 months or more? U R entitle..."
      ]
     },
     "execution_count": 6,
     "metadata": {},
     "output_type": "execute_result"
    }
   ],
   "source": [
    "df.head(10)"
   ]
  },
  {
   "cell_type": "markdown",
   "id": "b942f64c",
   "metadata": {},
   "source": [
    "The size of our DataFrame"
   ]
  },
  {
   "cell_type": "code",
   "execution_count": 7,
   "id": "b63dc315",
   "metadata": {},
   "outputs": [
    {
     "name": "stdout",
     "output_type": "stream",
     "text": [
      "(5572, 2)\n"
     ]
    }
   ],
   "source": [
    "print(df.shape)"
   ]
  },
  {
   "cell_type": "code",
   "execution_count": 8,
   "id": "8be5c2c5",
   "metadata": {},
   "outputs": [
    {
     "data": {
      "text/html": [
       "<div>\n",
       "<style scoped>\n",
       "    .dataframe tbody tr th:only-of-type {\n",
       "        vertical-align: middle;\n",
       "    }\n",
       "\n",
       "    .dataframe tbody tr th {\n",
       "        vertical-align: top;\n",
       "    }\n",
       "\n",
       "    .dataframe thead tr th {\n",
       "        text-align: left;\n",
       "    }\n",
       "\n",
       "    .dataframe thead tr:last-of-type th {\n",
       "        text-align: right;\n",
       "    }\n",
       "</style>\n",
       "<table border=\"1\" class=\"dataframe\">\n",
       "  <thead>\n",
       "    <tr>\n",
       "      <th></th>\n",
       "      <th colspan=\"4\" halign=\"left\">Message</th>\n",
       "    </tr>\n",
       "    <tr>\n",
       "      <th></th>\n",
       "      <th>count</th>\n",
       "      <th>unique</th>\n",
       "      <th>top</th>\n",
       "      <th>freq</th>\n",
       "    </tr>\n",
       "    <tr>\n",
       "      <th>Category</th>\n",
       "      <th></th>\n",
       "      <th></th>\n",
       "      <th></th>\n",
       "      <th></th>\n",
       "    </tr>\n",
       "  </thead>\n",
       "  <tbody>\n",
       "    <tr>\n",
       "      <th>ham</th>\n",
       "      <td>4825</td>\n",
       "      <td>4516</td>\n",
       "      <td>Sorry, I'll call later</td>\n",
       "      <td>30</td>\n",
       "    </tr>\n",
       "    <tr>\n",
       "      <th>spam</th>\n",
       "      <td>747</td>\n",
       "      <td>641</td>\n",
       "      <td>Please call our customer service representativ...</td>\n",
       "      <td>4</td>\n",
       "    </tr>\n",
       "  </tbody>\n",
       "</table>\n",
       "</div>"
      ],
      "text/plain": [
       "         Message                                                            \\\n",
       "           count unique                                                top   \n",
       "Category                                                                     \n",
       "ham         4825   4516                             Sorry, I'll call later   \n",
       "spam         747    641  Please call our customer service representativ...   \n",
       "\n",
       "               \n",
       "         freq  \n",
       "Category       \n",
       "ham        30  \n",
       "spam        4  "
      ]
     },
     "execution_count": 8,
     "metadata": {},
     "output_type": "execute_result"
    }
   ],
   "source": [
    "df.groupby(\"Category\").describe()"
   ]
  },
  {
   "cell_type": "code",
   "execution_count": 9,
   "id": "99315358",
   "metadata": {},
   "outputs": [
    {
     "data": {
      "text/plain": [
       "<bound method DataFrame.info of      Category                                            Message\n",
       "0         ham  Go until jurong point, crazy.. Available only ...\n",
       "1         ham                      Ok lar... Joking wif u oni...\n",
       "2        spam  Free entry in 2 a wkly comp to win FA Cup fina...\n",
       "3         ham  U dun say so early hor... U c already then say...\n",
       "4         ham  Nah I don't think he goes to usf, he lives aro...\n",
       "...       ...                                                ...\n",
       "5567     spam  This is the 2nd time we have tried 2 contact u...\n",
       "5568      ham               Will ü b going to esplanade fr home?\n",
       "5569      ham  Pity, * was in mood for that. So...any other s...\n",
       "5570      ham  The guy did some bitching but I acted like i'd...\n",
       "5571      ham                         Rofl. Its true to its name\n",
       "\n",
       "[5572 rows x 2 columns]>"
      ]
     },
     "execution_count": 9,
     "metadata": {},
     "output_type": "execute_result"
    }
   ],
   "source": [
    "df.info"
   ]
  },
  {
   "cell_type": "markdown",
   "id": "69552b26",
   "metadata": {},
   "source": [
    "Making sure that there are'nt any null values in our data "
   ]
  },
  {
   "cell_type": "code",
   "execution_count": 10,
   "id": "96968ba5",
   "metadata": {},
   "outputs": [
    {
     "data": {
      "text/plain": [
       "False"
      ]
     },
     "execution_count": 10,
     "metadata": {},
     "output_type": "execute_result"
    }
   ],
   "source": [
    "df.isnull().values.any()"
   ]
  },
  {
   "cell_type": "markdown",
   "id": "962662db",
   "metadata": {},
   "source": [
    "# 2- Visualization\n"
   ]
  },
  {
   "cell_type": "markdown",
   "id": "99b7d7bf",
   "metadata": {},
   "source": [
    "We added the visualization part in here because later on we will clean our data and by doing so we won't be able to show our raw data as it is."
   ]
  },
  {
   "cell_type": "code",
   "execution_count": 11,
   "id": "ae506378",
   "metadata": {},
   "outputs": [
    {
     "data": {
      "image/png": "[encoded data removed]",
      "text/plain": [
       "<Figure size 216x360 with 1 Axes>"
      ]
     },
     "metadata": {},
     "output_type": "display_data"
    }
   ],
   "source": [
    "plt.style.use(\"seaborn\")\n",
    "fig, ax = plt.subplots(figsize=(3,5))\n",
    "sns.countplot(x = df.Category)\n",
    "plt.show()"
   ]
  },
  {
   "cell_type": "code",
   "execution_count": 12,
   "id": "1bb0c983",
   "metadata": {
    "scrolled": true
   },
   "outputs": [
    {
     "data": {
      "image/png": "[encoded data removed]",
      "text/plain": [
       "<Figure size 576x396 with 1 Axes>"
      ]
     },
     "metadata": {},
     "output_type": "display_data"
    }
   ],
   "source": [
    "label = ['Ham','Spam']\n",
    "colors = sns.color_palette('pastel')[0:5]\n",
    "plt.pie(df['Category'].value_counts(),labels = label, colors = colors, autopct='%.0f%%')\n",
    "plt.show()"
   ]
  },
  {
   "cell_type": "markdown",
   "id": "c78c8f6b",
   "metadata": {},
   "source": [
    "Let's check the amount of words in each Category"
   ]
  },
  {
   "cell_type": "code",
   "execution_count": 13,
   "id": "454e04e5",
   "metadata": {},
   "outputs": [
    {
     "data": {
      "text/plain": [
       "<AxesSubplot:xlabel='word_count', ylabel='Category'>"
      ]
     },
     "execution_count": 13,
     "metadata": {},
     "output_type": "execute_result"
    },
    {
     "data": {
      "image/png": "[encoded data removed]",
      "text/plain": [
       "<Figure size 576x396 with 1 Axes>"
      ]
     },
     "metadata": {},
     "output_type": "display_data"
    }
   ],
   "source": [
    "df['word_count'] = df['Message'].apply(len)\n",
    "sns.scatterplot(x = df['word_count'],y = df['Category'])"
   ]
  },
  {
   "cell_type": "markdown",
   "id": "416101df",
   "metadata": {},
   "source": [
    "As we can see ham type messages are longer than spam type messages. "
   ]
  },
  {
   "cell_type": "markdown",
   "id": "68bf57ad",
   "metadata": {},
   "source": [
    "# 3- Cleaning the Data\n",
    "    \n",
    "   "
   ]
  },
  {
   "cell_type": "markdown",
   "id": "015ee209",
   "metadata": {},
   "source": [
    "We realized that our data is imbalanced because one of our classes has a significantly lower amount of cases compared to the other class (can also be seen in our graphs)."
   ]
  },
  {
   "cell_type": "markdown",
   "id": "f1d6b307",
   "metadata": {},
   "source": [
    "In order to balance out the data we'll pick 747 cases of \"ham\" messages."
   ]
  },
  {
   "cell_type": "code",
   "execution_count": 42,
   "id": "424bb5fc",
   "metadata": {},
   "outputs": [],
   "source": [
    "ham=df[df['Category']=='ham']\n",
    "spam=df[df['Category']=='spam']"
   ]
  },
  {
   "cell_type": "code",
   "execution_count": 15,
   "id": "a3b28e2b",
   "metadata": {},
   "outputs": [],
   "source": [
    "ham=ham.sample(747)"
   ]
  },
  {
   "cell_type": "markdown",
   "id": "89846bc0",
   "metadata": {},
   "source": [
    "Now, let's see the data"
   ]
  },
  {
   "cell_type": "code",
   "execution_count": 16,
   "id": "1c192946",
   "metadata": {},
   "outputs": [
    {
     "data": {
      "text/plain": [
       "((747, 3), (747, 3))"
      ]
     },
     "execution_count": 16,
     "metadata": {},
     "output_type": "execute_result"
    }
   ],
   "source": [
    "ham.shape,spam.shape"
   ]
  },
  {
   "cell_type": "markdown",
   "id": "72fad44c",
   "metadata": {},
   "source": [
    "As seen above, our data is now balanced, so it's time to put our samples in our DataFrame "
   ]
  },
  {
   "cell_type": "code",
   "execution_count": 43,
   "id": "f90b0517",
   "metadata": {},
   "outputs": [],
   "source": [
    "df = ham.append(spam,ignore_index=True)"
   ]
  },
  {
   "cell_type": "code",
   "execution_count": 44,
   "id": "a040a427",
   "metadata": {},
   "outputs": [
    {
     "data": {
      "text/html": [
       "<div>\n",
       "<style scoped>\n",
       "    .dataframe tbody tr th:only-of-type {\n",
       "        vertical-align: middle;\n",
       "    }\n",
       "\n",
       "    .dataframe tbody tr th {\n",
       "        vertical-align: top;\n",
       "    }\n",
       "\n",
       "    .dataframe thead th {\n",
       "        text-align: right;\n",
       "    }\n",
       "</style>\n",
       "<table border=\"1\" class=\"dataframe\">\n",
       "  <thead>\n",
       "    <tr style=\"text-align: right;\">\n",
       "      <th></th>\n",
       "      <th>Category</th>\n",
       "      <th>Message</th>\n",
       "      <th>word_count</th>\n",
       "    </tr>\n",
       "  </thead>\n",
       "  <tbody>\n",
       "    <tr>\n",
       "      <th>0</th>\n",
       "      <td>ham</td>\n",
       "      <td>It's ok i wun b angry. Msg u aft i come home t...</td>\n",
       "      <td>53</td>\n",
       "    </tr>\n",
       "    <tr>\n",
       "      <th>1</th>\n",
       "      <td>ham</td>\n",
       "      <td>tap &amp; spile at seven. * Is that pub on gas st ...</td>\n",
       "      <td>72</td>\n",
       "    </tr>\n",
       "    <tr>\n",
       "      <th>2</th>\n",
       "      <td>ham</td>\n",
       "      <td>ZOE IT JUST HIT ME 2 IM FUCKING SHITIN MYSELF ...</td>\n",
       "      <td>103</td>\n",
       "    </tr>\n",
       "    <tr>\n",
       "      <th>3</th>\n",
       "      <td>ham</td>\n",
       "      <td>Ok...</td>\n",
       "      <td>5</td>\n",
       "    </tr>\n",
       "    <tr>\n",
       "      <th>4</th>\n",
       "      <td>ham</td>\n",
       "      <td>HELLOGORGEOUS, HOWS U? MY FONE WAS ON CHARGE L...</td>\n",
       "      <td>142</td>\n",
       "    </tr>\n",
       "    <tr>\n",
       "      <th>...</th>\n",
       "      <td>...</td>\n",
       "      <td>...</td>\n",
       "      <td>...</td>\n",
       "    </tr>\n",
       "    <tr>\n",
       "      <th>1489</th>\n",
       "      <td>spam</td>\n",
       "      <td>Want explicit SEX in 30 secs? Ring 02073162414...</td>\n",
       "      <td>90</td>\n",
       "    </tr>\n",
       "    <tr>\n",
       "      <th>1490</th>\n",
       "      <td>spam</td>\n",
       "      <td>ASKED 3MOBILE IF 0870 CHATLINES INCLU IN FREE ...</td>\n",
       "      <td>158</td>\n",
       "    </tr>\n",
       "    <tr>\n",
       "      <th>1491</th>\n",
       "      <td>spam</td>\n",
       "      <td>Had your contract mobile 11 Mnths? Latest Moto...</td>\n",
       "      <td>160</td>\n",
       "    </tr>\n",
       "    <tr>\n",
       "      <th>1492</th>\n",
       "      <td>spam</td>\n",
       "      <td>REMINDER FROM O2: To get 2.50 pounds free call...</td>\n",
       "      <td>147</td>\n",
       "    </tr>\n",
       "    <tr>\n",
       "      <th>1493</th>\n",
       "      <td>spam</td>\n",
       "      <td>This is the 2nd time we have tried 2 contact u...</td>\n",
       "      <td>160</td>\n",
       "    </tr>\n",
       "  </tbody>\n",
       "</table>\n",
       "<p>1494 rows × 3 columns</p>\n",
       "</div>"
      ],
      "text/plain": [
       "     Category                                            Message  word_count\n",
       "0         ham  It's ok i wun b angry. Msg u aft i come home t...          53\n",
       "1         ham  tap & spile at seven. * Is that pub on gas st ...          72\n",
       "2         ham  ZOE IT JUST HIT ME 2 IM FUCKING SHITIN MYSELF ...         103\n",
       "3         ham                                              Ok...           5\n",
       "4         ham  HELLOGORGEOUS, HOWS U? MY FONE WAS ON CHARGE L...         142\n",
       "...       ...                                                ...         ...\n",
       "1489     spam  Want explicit SEX in 30 secs? Ring 02073162414...          90\n",
       "1490     spam  ASKED 3MOBILE IF 0870 CHATLINES INCLU IN FREE ...         158\n",
       "1491     spam  Had your contract mobile 11 Mnths? Latest Moto...         160\n",
       "1492     spam  REMINDER FROM O2: To get 2.50 pounds free call...         147\n",
       "1493     spam  This is the 2nd time we have tried 2 contact u...         160\n",
       "\n",
       "[1494 rows x 3 columns]"
      ]
     },
     "execution_count": 44,
     "metadata": {},
     "output_type": "execute_result"
    }
   ],
   "source": [
    "df"
   ]
  },
  {
   "cell_type": "markdown",
   "id": "356e1603",
   "metadata": {},
   "source": [
    "# 4- Splitting the Data\n"
   ]
  },
  {
   "cell_type": "markdown",
   "id": "338caa8f",
   "metadata": {},
   "source": [
    "Here we divided our data into a test set (20%) and a train set (80%)"
   ]
  },
  {
   "cell_type": "markdown",
   "id": "782483cd",
   "metadata": {},
   "source": [
    "In order to run our codes we changed our strings- ham and spam into numbers:"
   ]
  },
  {
   "cell_type": "code",
   "execution_count": 45,
   "id": "7d4a78b4",
   "metadata": {},
   "outputs": [
    {
     "data": {
      "text/html": [
       "<div>\n",
       "<style scoped>\n",
       "    .dataframe tbody tr th:only-of-type {\n",
       "        vertical-align: middle;\n",
       "    }\n",
       "\n",
       "    .dataframe tbody tr th {\n",
       "        vertical-align: top;\n",
       "    }\n",
       "\n",
       "    .dataframe thead th {\n",
       "        text-align: right;\n",
       "    }\n",
       "</style>\n",
       "<table border=\"1\" class=\"dataframe\">\n",
       "  <thead>\n",
       "    <tr style=\"text-align: right;\">\n",
       "      <th></th>\n",
       "      <th>Category</th>\n",
       "      <th>Message</th>\n",
       "      <th>word_count</th>\n",
       "    </tr>\n",
       "  </thead>\n",
       "  <tbody>\n",
       "    <tr>\n",
       "      <th>0</th>\n",
       "      <td>0</td>\n",
       "      <td>It's ok i wun b angry. Msg u aft i come home t...</td>\n",
       "      <td>53</td>\n",
       "    </tr>\n",
       "    <tr>\n",
       "      <th>1</th>\n",
       "      <td>0</td>\n",
       "      <td>tap &amp; spile at seven. * Is that pub on gas st ...</td>\n",
       "      <td>72</td>\n",
       "    </tr>\n",
       "    <tr>\n",
       "      <th>2</th>\n",
       "      <td>0</td>\n",
       "      <td>ZOE IT JUST HIT ME 2 IM FUCKING SHITIN MYSELF ...</td>\n",
       "      <td>103</td>\n",
       "    </tr>\n",
       "    <tr>\n",
       "      <th>3</th>\n",
       "      <td>0</td>\n",
       "      <td>Ok...</td>\n",
       "      <td>5</td>\n",
       "    </tr>\n",
       "    <tr>\n",
       "      <th>4</th>\n",
       "      <td>0</td>\n",
       "      <td>HELLOGORGEOUS, HOWS U? MY FONE WAS ON CHARGE L...</td>\n",
       "      <td>142</td>\n",
       "    </tr>\n",
       "    <tr>\n",
       "      <th>...</th>\n",
       "      <td>...</td>\n",
       "      <td>...</td>\n",
       "      <td>...</td>\n",
       "    </tr>\n",
       "    <tr>\n",
       "      <th>1489</th>\n",
       "      <td>1</td>\n",
       "      <td>Want explicit SEX in 30 secs? Ring 02073162414...</td>\n",
       "      <td>90</td>\n",
       "    </tr>\n",
       "    <tr>\n",
       "      <th>1490</th>\n",
       "      <td>1</td>\n",
       "      <td>ASKED 3MOBILE IF 0870 CHATLINES INCLU IN FREE ...</td>\n",
       "      <td>158</td>\n",
       "    </tr>\n",
       "    <tr>\n",
       "      <th>1491</th>\n",
       "      <td>1</td>\n",
       "      <td>Had your contract mobile 11 Mnths? Latest Moto...</td>\n",
       "      <td>160</td>\n",
       "    </tr>\n",
       "    <tr>\n",
       "      <th>1492</th>\n",
       "      <td>1</td>\n",
       "      <td>REMINDER FROM O2: To get 2.50 pounds free call...</td>\n",
       "      <td>147</td>\n",
       "    </tr>\n",
       "    <tr>\n",
       "      <th>1493</th>\n",
       "      <td>1</td>\n",
       "      <td>This is the 2nd time we have tried 2 contact u...</td>\n",
       "      <td>160</td>\n",
       "    </tr>\n",
       "  </tbody>\n",
       "</table>\n",
       "<p>1494 rows × 3 columns</p>\n",
       "</div>"
      ],
      "text/plain": [
       "      Category                                            Message  word_count\n",
       "0            0  It's ok i wun b angry. Msg u aft i come home t...          53\n",
       "1            0  tap & spile at seven. * Is that pub on gas st ...          72\n",
       "2            0  ZOE IT JUST HIT ME 2 IM FUCKING SHITIN MYSELF ...         103\n",
       "3            0                                              Ok...           5\n",
       "4            0  HELLOGORGEOUS, HOWS U? MY FONE WAS ON CHARGE L...         142\n",
       "...        ...                                                ...         ...\n",
       "1489         1  Want explicit SEX in 30 secs? Ring 02073162414...          90\n",
       "1490         1  ASKED 3MOBILE IF 0870 CHATLINES INCLU IN FREE ...         158\n",
       "1491         1  Had your contract mobile 11 Mnths? Latest Moto...         160\n",
       "1492         1  REMINDER FROM O2: To get 2.50 pounds free call...         147\n",
       "1493         1  This is the 2nd time we have tried 2 contact u...         160\n",
       "\n",
       "[1494 rows x 3 columns]"
      ]
     },
     "execution_count": 45,
     "metadata": {},
     "output_type": "execute_result"
    }
   ],
   "source": [
    "# Data frame is created under column name Category and Message\n",
    "data_frame = pd.DataFrame(df, columns=[\"Category\", \"Message\"])\n",
    " \n",
    "# Data of Category is converted into Binary Data\n",
    "df_one = pd.get_dummies(data_frame[\"Category\"])\n",
    " \n",
    "# Binary Data is Concatenated into Dataframe\n",
    "df_two = pd.concat((df_one, data_frame), axis=1)\n",
    " \n",
    "# Category column is dropped\n",
    "df_two = df_two.drop([\"Category\"], axis=1)\n",
    " \n",
    "# We want ham =0 and spam =1 So we drop Male column here\n",
    "df_two = df_two.drop([\"ham\"], axis=1)\n",
    " \n",
    "# Rename the Column\n",
    "binary_df = df_two.rename(columns={\"spam\": \"Category\"})\n",
    " \n",
    "#Adding the word count column\n",
    "binary_df['word_count'] = df['Message'].apply(len)\n",
    "\n",
    "# Print the Result\n",
    "binary_df"
   ]
  },
  {
   "cell_type": "code",
   "execution_count": 46,
   "id": "04dcdf7a",
   "metadata": {},
   "outputs": [],
   "source": [
    "x_train, x_test, y_train, y_test = train_test_split(binary_df['Message'], binary_df['Category'], test_size = 0.2, random_state=0, shuffle = True, stratify=df['Category'])"
   ]
  },
  {
   "cell_type": "code",
   "execution_count": 47,
   "id": "4f2e651a",
   "metadata": {},
   "outputs": [
    {
     "data": {
      "text/plain": [
       "124                                I said its okay. Sorry\n",
       "662                           It vl bcum more difficult..\n",
       "1007    You have WON a guaranteed £1000 cash or a £200...\n",
       "1151    Do you ever notice that when you're driving, a...\n",
       "1096    This message is brought to you by GMW Ltd. and...\n",
       "                              ...                        \n",
       "1321    Show ur colours! Euro 2004 2-4-1 Offer! Get an...\n",
       "312     BABE !!! I miiiiiiissssssssss you ! I need you...\n",
       "268     That depends. How would you like to be treated...\n",
       "272              Die... Now i have e toot fringe again...\n",
       "934     FREE entry into our £250 weekly comp just send...\n",
       "Name: Message, Length: 1195, dtype: object"
      ]
     },
     "execution_count": 47,
     "metadata": {},
     "output_type": "execute_result"
    }
   ],
   "source": [
    "x_train"
   ]
  },
  {
   "cell_type": "code",
   "execution_count": 48,
   "id": "46450374",
   "metadata": {},
   "outputs": [
    {
     "data": {
      "text/plain": [
       "124     0\n",
       "662     0\n",
       "1007    1\n",
       "1151    1\n",
       "1096    1\n",
       "       ..\n",
       "1321    1\n",
       "312     0\n",
       "268     0\n",
       "272     0\n",
       "934     1\n",
       "Name: Category, Length: 1195, dtype: uint8"
      ]
     },
     "execution_count": 48,
     "metadata": {},
     "output_type": "execute_result"
    }
   ],
   "source": [
    "y_train"
   ]
  },
  {
   "cell_type": "code",
   "execution_count": 49,
   "id": "81b47046",
   "metadata": {},
   "outputs": [
    {
     "data": {
      "text/plain": [
       "510     You only hate me. You can call any but you did...\n",
       "1320    U can WIN £100 of Music Gift Vouchers every we...\n",
       "1168    1st wk FREE! Gr8 tones str8 2 u each wk. Txt N...\n",
       "574     Goodmorning, today i am late for  &lt;DECIMAL&...\n",
       "512     So many people seems to be special at first si...\n",
       "                              ...                        \n",
       "488     My uncles in Atlanta. Wish you guys a great se...\n",
       "1041    FREE2DAY sexy St George's Day pic of Jordan!Tx...\n",
       "1464    u r subscribed 2 TEXTCOMP 250 wkly comp. 1st w...\n",
       "1141    Hey Boys. Want hot XXX pics sent direct 2 ur p...\n",
       "1132    INTERFLORA - It's not too late to order Inter...\n",
       "Name: Message, Length: 299, dtype: object"
      ]
     },
     "execution_count": 49,
     "metadata": {},
     "output_type": "execute_result"
    }
   ],
   "source": [
    "x_test"
   ]
  },
  {
   "cell_type": "code",
   "execution_count": 50,
   "id": "be128fa6",
   "metadata": {},
   "outputs": [
    {
     "data": {
      "text/plain": [
       "510     0\n",
       "1320    1\n",
       "1168    1\n",
       "574     0\n",
       "512     0\n",
       "       ..\n",
       "488     0\n",
       "1041    1\n",
       "1464    1\n",
       "1141    1\n",
       "1132    1\n",
       "Name: Category, Length: 299, dtype: uint8"
      ]
     },
     "execution_count": 50,
     "metadata": {},
     "output_type": "execute_result"
    }
   ],
   "source": [
    "y_test"
   ]
  },
  {
   "cell_type": "markdown",
   "id": "09d6a116",
   "metadata": {},
   "source": [
    "# 5- Dummy Model\n"
   ]
  },
  {
   "cell_type": "markdown",
   "id": "2487c49c",
   "metadata": {},
   "source": [
    "A dummy classifier is used as a simple classifier to compare with more complex classifiers."
   ]
  },
  {
   "cell_type": "code",
   "execution_count": 53,
   "id": "d45f3145",
   "metadata": {},
   "outputs": [
    {
     "name": "stdout",
     "output_type": "stream",
     "text": [
      "dummy classifier:0.4983277591973244\n"
     ]
    }
   ],
   "source": [
    "dc_clf = DummyClassifier(strategy=\"most_frequent\")\n",
    "\n",
    "dc_clf.fit(x_train,y_train)\n",
    "score = dc_clf.score(x_test,y_test)\n",
    "print(\"dummy classifier:{}\".format(score))"
   ]
  },
  {
   "cell_type": "markdown",
   "id": "15ea7adf",
   "metadata": {},
   "source": [
    "Our dummy classifier gives us accuracy of 49%, thats around 50%. \n"
   ]
  },
  {
   "cell_type": "markdown",
   "id": "b69ce84f",
   "metadata": {},
   "source": [
    "# 6- Comparing 3 Models\n"
   ]
  },
  {
   "cell_type": "markdown",
   "id": "84e58b17",
   "metadata": {},
   "source": [
    "### Our data in this project is type string so we used models that work on type string data "
   ]
  },
  {
   "cell_type": "markdown",
   "id": "50d11a34",
   "metadata": {},
   "source": [
    "#### First model: Random Forest Classifier:"
   ]
  },
  {
   "cell_type": "markdown",
   "id": "726ffd1b",
   "metadata": {},
   "source": [
    "The randomforest classifier has multiple decision trees. In order to enhance its accuracy and avoid overfitting it uses randomness.\n",
    "the algorithm makes decision trees based on a random selection of data samples and get predictions from every tree. After that, they select the best viable solution through votes. "
   ]
  },
  {
   "cell_type": "code",
   "execution_count": 26,
   "id": "dc7a00cc",
   "metadata": {},
   "outputs": [],
   "source": [
    "clf = Pipeline([('tfidf', TfidfVectorizer()), ('clf', RandomForestClassifier(n_estimators=100, n_jobs=-1))]) \n",
    "#njobs=-1 will use all the cores of CPU"
   ]
  },
  {
   "cell_type": "code",
   "execution_count": 27,
   "id": "d7a90656",
   "metadata": {},
   "outputs": [
    {
     "data": {
      "text/plain": [
       "Pipeline(steps=[('tfidf', TfidfVectorizer()),\n",
       "                ('clf', RandomForestClassifier(n_jobs=-1))])"
      ]
     },
     "execution_count": 27,
     "metadata": {},
     "output_type": "execute_result"
    }
   ],
   "source": [
    "clf.fit(x_train, y_train)"
   ]
  },
  {
   "cell_type": "code",
   "execution_count": 28,
   "id": "c04a07e6",
   "metadata": {},
   "outputs": [],
   "source": [
    "rfc_pred = clf.predict(x_test)"
   ]
  },
  {
   "cell_type": "code",
   "execution_count": 29,
   "id": "ec0ad91c",
   "metadata": {},
   "outputs": [
    {
     "data": {
      "text/plain": [
       "array([[150,   0],\n",
       "       [ 16, 133]], dtype=int64)"
      ]
     },
     "execution_count": 29,
     "metadata": {},
     "output_type": "execute_result"
    }
   ],
   "source": [
    "from sklearn.metrics import accuracy_score, classification_report, confusion_matrix\n",
    "confusion_matrix(y_test, rfc_pred)"
   ]
  },
  {
   "cell_type": "code",
   "execution_count": 30,
   "id": "6388bc4b",
   "metadata": {},
   "outputs": [
    {
     "name": "stdout",
     "output_type": "stream",
     "text": [
      "              precision    recall  f1-score   support\n",
      "\n",
      "           0       0.90      1.00      0.95       150\n",
      "           1       1.00      0.89      0.94       149\n",
      "\n",
      "    accuracy                           0.95       299\n",
      "   macro avg       0.95      0.95      0.95       299\n",
      "weighted avg       0.95      0.95      0.95       299\n",
      "\n"
     ]
    }
   ],
   "source": [
    "print(classification_report(y_test, rfc_pred))"
   ]
  },
  {
   "cell_type": "markdown",
   "id": "3527216b",
   "metadata": {},
   "source": [
    "#### Second model: Support Vector Machines:"
   ]
  },
  {
   "cell_type": "markdown",
   "id": "289af556",
   "metadata": {},
   "source": [
    "The support vector machine algorithm helps to classify data points with linear classification. \n"
   ]
  },
  {
   "cell_type": "markdown",
   "id": "669e56ba",
   "metadata": {},
   "source": [
    "In the SVM algorithm, we plot each data item as a point in n-dimensional space (where n is a number of features you have) with the value of each feature being the value of a particular coordinate. Then, we perform classification by finding the hyper-plane (a subspace whose dimension is one less than that of its surrounding space) that differentiates the two classes very well"
   ]
  },
  {
   "cell_type": "code",
   "execution_count": 31,
   "id": "53dcbe60",
   "metadata": {},
   "outputs": [],
   "source": [
    "from sklearn.svm import SVC"
   ]
  },
  {
   "cell_type": "code",
   "execution_count": 32,
   "id": "aff4d020",
   "metadata": {},
   "outputs": [
    {
     "data": {
      "text/plain": [
       "Pipeline(steps=[('tfidf', TfidfVectorizer()),\n",
       "                ('clf', SVC(C=1000, gamma='auto'))])"
      ]
     },
     "execution_count": 32,
     "metadata": {},
     "output_type": "execute_result"
    }
   ],
   "source": [
    "clf = Pipeline([('tfidf', TfidfVectorizer()), ('clf', SVC(C = 1000, gamma = 'auto'))])\n",
    "clf.fit(x_train, y_train)"
   ]
  },
  {
   "cell_type": "code",
   "execution_count": 55,
   "id": "369a8a0d",
   "metadata": {},
   "outputs": [
    {
     "data": {
      "text/plain": [
       "array([[150,   0],\n",
       "       [ 14, 135]], dtype=int64)"
      ]
     },
     "execution_count": 55,
     "metadata": {},
     "output_type": "execute_result"
    }
   ],
   "source": [
    "svc_pred = clf.predict(x_test)\n",
    "confusion_matrix(y_test, svc_pred)"
   ]
  },
  {
   "cell_type": "code",
   "execution_count": 56,
   "id": "86787510",
   "metadata": {},
   "outputs": [
    {
     "name": "stdout",
     "output_type": "stream",
     "text": [
      "              precision    recall  f1-score   support\n",
      "\n",
      "           0       0.91      1.00      0.96       150\n",
      "           1       1.00      0.91      0.95       149\n",
      "\n",
      "    accuracy                           0.95       299\n",
      "   macro avg       0.96      0.95      0.95       299\n",
      "weighted avg       0.96      0.95      0.95       299\n",
      "\n"
     ]
    }
   ],
   "source": [
    "print(classification_report(y_test, svc_pred))"
   ]
  },
  {
   "cell_type": "markdown",
   "id": "9243e656",
   "metadata": {},
   "source": [
    "#### Third model: Logistic Regression"
   ]
  },
  {
   "cell_type": "markdown",
   "id": "504eacaf",
   "metadata": {},
   "source": [
    "Logistic regression is a statistical analysis method to predict a binary outcome, such as spam or ham, based on prior observations of a data set. A logistic regression model predicts a dependent data variable by analyzing the relationship between one or more existing independent variables."
   ]
  },
  {
   "cell_type": "code",
   "execution_count": 58,
   "id": "9a4d6014",
   "metadata": {},
   "outputs": [
    {
     "data": {
      "text/plain": [
       "Pipeline(steps=[('tfidf', TfidfVectorizer()), ('clf', LogisticRegression())])"
      ]
     },
     "execution_count": 58,
     "metadata": {},
     "output_type": "execute_result"
    }
   ],
   "source": [
    "clf = Pipeline([('tfidf', TfidfVectorizer()), ('clf', LogisticRegression())])\n",
    "clf.fit(x_train, y_train)"
   ]
  },
  {
   "cell_type": "code",
   "execution_count": 59,
   "id": "936239f2",
   "metadata": {},
   "outputs": [
    {
     "data": {
      "text/plain": [
       "array([[150,   0],\n",
       "       [ 14, 135]], dtype=int64)"
      ]
     },
     "execution_count": 59,
     "metadata": {},
     "output_type": "execute_result"
    }
   ],
   "source": [
    "l_pred = clf.predict(x_test)\n",
    "confusion_matrix(y_test, l_pred)"
   ]
  },
  {
   "cell_type": "code",
   "execution_count": 60,
   "id": "d105a104",
   "metadata": {},
   "outputs": [
    {
     "name": "stdout",
     "output_type": "stream",
     "text": [
      "              precision    recall  f1-score   support\n",
      "\n",
      "           0       0.91      1.00      0.96       150\n",
      "           1       1.00      0.91      0.95       149\n",
      "\n",
      "    accuracy                           0.95       299\n",
      "   macro avg       0.96      0.95      0.95       299\n",
      "weighted avg       0.96      0.95      0.95       299\n",
      "\n"
     ]
    }
   ],
   "source": [
    "print(classification_report(y_test, l_pred))"
   ]
  },
  {
   "cell_type": "markdown",
   "id": "ce9fab44",
   "metadata": {},
   "source": [
    "As we can see our first model is not performing as good as the other two, therefore our best models are logistic regression and support vector machines."
   ]
  },
  {
   "cell_type": "markdown",
   "id": "a6cfdd29",
   "metadata": {},
   "source": [
    "The reason that our models are so close in accuracy is because we don't have enough data for the models to work on, and that's the reason they all work the same and get the same answers.\n",
    "\n",
    "However, we can see that in our second model: Support Vector Machines, the clasisification report came out different, but the accuracy is similar to the other two models. "
   ]
  },
  {
   "cell_type": "markdown",
   "id": "cc75190a",
   "metadata": {},
   "source": [
    "# 7- Error Model\n"
   ]
  },
  {
   "cell_type": "markdown",
   "id": "2c8e0e4c",
   "metadata": {},
   "source": [
    "We decided to use AUC (Area Under The Curve) ROC (Receiver Operating Characteristics) in order to score our models.\n",
    "\n",
    "When AUC = 1, then the classifier is able to perfectly distinguish between all the Positive and the Negative class points correctly.\n",
    "\n",
    "When 0.5<AUC<1, there is a high chance that the classifier will be able to distinguish the positive class values from the negative class values.\n",
    "This is so because the classifier is able to detect more numbers of True positives and True negatives than False negatives and False positives.\n"
   ]
  },
  {
   "cell_type": "markdown",
   "id": "ae8370de",
   "metadata": {},
   "source": [
    "#### Random Forest Classifier:"
   ]
  },
  {
   "cell_type": "code",
   "execution_count": 62,
   "id": "c5e3be0b",
   "metadata": {},
   "outputs": [
    {
     "data": {
      "text/plain": [
       "0.9463087248322148"
      ]
     },
     "execution_count": 62,
     "metadata": {},
     "output_type": "execute_result"
    }
   ],
   "source": [
    "roc_auc_score(y_test,rfc_pred)"
   ]
  },
  {
   "cell_type": "markdown",
   "id": "9d6f7b60",
   "metadata": {},
   "source": [
    "####  Support Vector Machines:"
   ]
  },
  {
   "cell_type": "code",
   "execution_count": 63,
   "id": "db6d8ab2",
   "metadata": {},
   "outputs": [
    {
     "data": {
      "text/plain": [
       "0.9530201342281879"
      ]
     },
     "execution_count": 63,
     "metadata": {},
     "output_type": "execute_result"
    }
   ],
   "source": [
    "roc_auc_score(y_test,svc_pred)"
   ]
  },
  {
   "cell_type": "markdown",
   "id": "405d6cb5",
   "metadata": {},
   "source": [
    "#### Logistic Regression:"
   ]
  },
  {
   "cell_type": "code",
   "execution_count": 64,
   "id": "c2549966",
   "metadata": {},
   "outputs": [
    {
     "data": {
      "text/plain": [
       "0.9530201342281879"
      ]
     },
     "execution_count": 64,
     "metadata": {},
     "output_type": "execute_result"
    }
   ],
   "source": [
    "roc_auc_score(y_test,l_pred)"
   ]
  },
  {
   "cell_type": "markdown",
   "id": "4f1f257e",
   "metadata": {},
   "source": [
    "# 8- Conclusion"
   ]
  },
  {
   "cell_type": "markdown",
   "id": "79d5082e",
   "metadata": {},
   "source": [
    "When AUC=0.5, then the classifier is not able to distinguish between Positive and Negative class points. Meaning either the classifier is predicting random class or constant class for all the data points. Therefore, we can see that our Dummy Model worked accordingly. "
   ]
  },
  {
   "cell_type": "markdown",
   "id": "a43e82f0",
   "metadata": {},
   "source": [
    "In comparison, we saw that the Logistic Regression and Support Vector Machines were the best models, both giving us 94.6% ~95% accuracy. "
   ]
  }
 ],
 "metadata": {
  "kernelspec": {
   "display_name": "Python 3 (ipykernel)",
   "language": "python",
   "name": "python3"
  },
  "language_info": {
   "codemirror_mode": {
    "name": "ipython",
    "version": 3
   },
   "file_extension": ".py",
   "mimetype": "text/x-python",
   "name": "python",
   "nbconvert_exporter": "python",
   "pygments_lexer": "ipython3",
   "version": "3.8.8"
  }
 },
 "nbformat": 4,
 "nbformat_minor": 5
}
